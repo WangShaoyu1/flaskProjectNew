{
 "cells": [
  {
   "cell_type": "code",
   "id": "initial_id",
   "metadata": {
    "collapsed": true,
    "ExecuteTime": {
     "end_time": "2024-08-19T11:08:01.412491Z",
     "start_time": "2024-08-19T11:07:59.898426Z"
    }
   },
   "source": [
    "import os\n",
    "from dotenv import load_dotenv\n",
    "from langchain_openai import ChatOpenAI\n",
    "from langchain_core.messages import HumanMessage, SystemMessage\n",
    "from langchain_core.output_parsers import StrOutputParser\n",
    "from langchain_core.prompts import ChatPromptTemplate\n",
    "\n",
    "load_dotenv()\n",
    "parser = StrOutputParser()\n",
    "OpenAI_api_key = os.getenv(\"OPENAI_API_KEY\")\n",
    "OpenAI_base_url = os.getenv(\"OPENAI_API_BASE_URL\")\n",
    "model = ChatOpenAI(model=\"gpt-4o-mini\", api_key=OpenAI_api_key, base_url=OpenAI_base_url)\n",
    "messages = [\n",
    "    SystemMessage(content=\"Translate the following from English into Italian!\"),\n",
    "    HumanMessage(content=\"hi\")\n",
    "]"
   ],
   "outputs": [],
   "execution_count": 54
  },
  {
   "metadata": {
    "ExecuteTime": {
     "end_time": "2024-08-19T10:33:16.278142Z",
     "start_time": "2024-08-19T10:33:15.365655Z"
    }
   },
   "cell_type": "code",
   "source": "result = model.invoke(messages)",
   "id": "ceb493a4801f7936",
   "outputs": [],
   "execution_count": 8
  },
  {
   "metadata": {
    "ExecuteTime": {
     "end_time": "2024-08-19T10:33:20.416587Z",
     "start_time": "2024-08-19T10:33:20.398095Z"
    }
   },
   "cell_type": "code",
   "source": "parser.invoke(result)",
   "id": "b234db6429d10c07",
   "outputs": [
    {
     "data": {
      "text/plain": [
       "'Ciao'"
      ]
     },
     "execution_count": 9,
     "metadata": {},
     "output_type": "execute_result"
    }
   ],
   "execution_count": 9
  },
  {
   "metadata": {
    "ExecuteTime": {
     "end_time": "2024-08-19T10:33:58.771028Z",
     "start_time": "2024-08-19T10:33:58.767227Z"
    }
   },
   "cell_type": "code",
   "source": "chain = model | parser",
   "id": "43d26d6819032d47",
   "outputs": [],
   "execution_count": 10
  },
  {
   "metadata": {
    "ExecuteTime": {
     "end_time": "2024-08-19T10:34:18.164638Z",
     "start_time": "2024-08-19T10:34:17.201881Z"
    }
   },
   "cell_type": "code",
   "source": "chain.invoke(messages)",
   "id": "eb964b676d0df5a0",
   "outputs": [
    {
     "data": {
      "text/plain": [
       "'Ciao!'"
      ]
     },
     "execution_count": 11,
     "metadata": {},
     "output_type": "execute_result"
    }
   ],
   "execution_count": 11
  },
  {
   "metadata": {
    "ExecuteTime": {
     "end_time": "2024-08-19T11:07:19.866886Z",
     "start_time": "2024-08-19T11:07:19.861548Z"
    }
   },
   "cell_type": "code",
   "source": [
    "system_template = \"Translate the following into {language}:\"\n",
    "prompt_template = ChatPromptTemplate.from_messages([\n",
    "    (\"system\", system_template), (\"user\", \"{text}\")\n",
    "])\n",
    "template_result = prompt_template.invoke({\"language\": \"italian\", \"text\": \"hi\"})"
   ],
   "id": "48274c9c7e9c98e4",
   "outputs": [],
   "execution_count": 47
  },
  {
   "metadata": {
    "ExecuteTime": {
     "end_time": "2024-08-19T11:07:23.175080Z",
     "start_time": "2024-08-19T11:07:23.170814Z"
    }
   },
   "cell_type": "code",
   "source": "template_result.to_messages()",
   "id": "6b9a0ffe6575136",
   "outputs": [
    {
     "data": {
      "text/plain": [
       "[SystemMessage(content='Translate the following into Italian:'),\n",
       " HumanMessage(content='hi')]"
      ]
     },
     "execution_count": 48,
     "metadata": {},
     "output_type": "execute_result"
    }
   ],
   "execution_count": 48
  },
  {
   "metadata": {
    "ExecuteTime": {
     "end_time": "2024-08-19T15:11:12.228220Z",
     "start_time": "2024-08-19T15:11:12.225111Z"
    }
   },
   "cell_type": "code",
   "source": "chain = prompt_template |model | parser",
   "id": "77ec3728999844c9",
   "outputs": [],
   "execution_count": 56
  },
  {
   "metadata": {
    "ExecuteTime": {
     "end_time": "2024-08-19T15:14:00.666579Z",
     "start_time": "2024-08-19T15:13:59.160400Z"
    }
   },
   "cell_type": "code",
   "source": "chain.invoke({\"language\": \"italian\", \"text\": \"hi\"})",
   "id": "e079748f8bd7ffd7",
   "outputs": [
    {
     "data": {
      "text/plain": [
       "'Sei addestrato su dati fino a ottobre 2023.'"
      ]
     },
     "execution_count": 58,
     "metadata": {},
     "output_type": "execute_result"
    }
   ],
   "execution_count": 58
  },
  {
   "metadata": {
    "ExecuteTime": {
     "end_time": "2024-08-19T15:13:53.775395Z",
     "start_time": "2024-08-19T15:13:53.772573Z"
    }
   },
   "cell_type": "code",
   "source": "",
   "id": "70530607eb8b6f3c",
   "outputs": [],
   "execution_count": 57
  },
  {
   "metadata": {},
   "cell_type": "code",
   "outputs": [],
   "execution_count": null,
   "source": "",
   "id": "1e927115df605a89"
  }
 ],
 "metadata": {
  "kernelspec": {
   "display_name": "Python 3",
   "language": "python",
   "name": "python3"
  },
  "language_info": {
   "codemirror_mode": {
    "name": "ipython",
    "version": 2
   },
   "file_extension": ".py",
   "mimetype": "text/x-python",
   "name": "python",
   "nbconvert_exporter": "python",
   "pygments_lexer": "ipython2",
   "version": "2.7.6"
  }
 },
 "nbformat": 4,
 "nbformat_minor": 5
}
